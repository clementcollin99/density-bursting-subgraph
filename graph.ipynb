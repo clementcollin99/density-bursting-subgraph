{
 "cells": [
  {
   "cell_type": "code",
   "execution_count": 1,
   "metadata": {},
   "outputs": [],
   "source": [
    "from src import Graph"
   ]
  },
  {
   "cell_type": "code",
   "execution_count": 8,
   "metadata": {},
   "outputs": [
    {
     "name": "stdout",
     "output_type": "stream",
     "text": [
      "vertices : A B C D E F G \n",
      "edges : (0, 4) (0, 5) (1, 2) (1, 4) (1, 6) (2, 1) (2, 3) (3, 2) (3, 4) (4, 0) (4, 1) (4, 3) (5, 0) (5, 6) (6, 1) (6, 5) \n"
     ]
    }
   ],
   "source": [
    "vertices = [\"A\", \"B\", \"C\", \"D\", \"E\", \"F\", \"G\"]\n",
    "graph = Graph(vertices)\n",
    "print(graph)"
   ]
  },
  {
   "cell_type": "code",
   "execution_count": 6,
   "metadata": {},
   "outputs": [
    {
     "data": {
      "text/plain": [
       "array([[0, 1, 1, 0, 2, 0, 0],\n",
       "       [1, 0, 0, 1, 0, 0, 0],\n",
       "       [1, 0, 0, 0, 0, 0, 1],\n",
       "       [0, 1, 0, 0, 0, 1, 1],\n",
       "       [2, 0, 0, 0, 0, 0, 0],\n",
       "       [0, 0, 0, 1, 0, 0, 0],\n",
       "       [0, 0, 1, 1, 0, 0, 0]])"
      ]
     },
     "execution_count": 6,
     "metadata": {},
     "output_type": "execute_result"
    }
   ],
   "source": [
    "graph.matrix"
   ]
  }
 ],
 "metadata": {
  "kernelspec": {
   "display_name": "density_bursting_subgraph",
   "language": "python",
   "name": "python3"
  },
  "language_info": {
   "codemirror_mode": {
    "name": "ipython",
    "version": 3
   },
   "file_extension": ".py",
   "mimetype": "text/x-python",
   "name": "python",
   "nbconvert_exporter": "python",
   "pygments_lexer": "ipython3",
   "version": "3.11.5"
  }
 },
 "nbformat": 4,
 "nbformat_minor": 2
}
