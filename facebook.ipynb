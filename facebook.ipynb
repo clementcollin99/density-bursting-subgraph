{
 "cells": [
  {
   "cell_type": "markdown",
   "metadata": {},
   "source": [
    "# Searching Density Bursting Subgraphs in the Facebook Wall Posts dataset"
   ]
  },
  {
   "cell_type": "markdown",
   "metadata": {},
   "source": [
    "## Necessary imports"
   ]
  },
  {
   "cell_type": "code",
   "execution_count": null,
   "metadata": {},
   "outputs": [],
   "source": [
    "# import external libraries\n",
    "import numpy as np\n",
    "import pandas as pd\n",
    "import networkx as nx\n",
    "import matplotlib.pyplot as plt\n",
    "\n",
    "# import custom classes and functions\n",
    "from src import Graph, TemporalGraph, find_density_bursting_subgraph"
   ]
  },
  {
   "cell_type": "markdown",
   "metadata": {},
   "source": [
    "## Data preparation"
   ]
  },
  {
   "cell_type": "markdown",
   "metadata": {},
   "source": [
    "First off, load the data."
   ]
  },
  {
   "cell_type": "code",
   "execution_count": null,
   "metadata": {},
   "outputs": [],
   "source": [
    "with open(\"data/sample.txt\", \"r\") as f:\n",
    "    s = f.read()\n",
    "connections = np.array([x.split(\" \") for x in s.split(\"\\n\")], dtype=int)"
   ]
  },
  {
   "cell_type": "markdown",
   "metadata": {},
   "source": [
    "Look at the dataset and gather some information about it."
   ]
  },
  {
   "cell_type": "code",
   "execution_count": null,
   "metadata": {},
   "outputs": [],
   "source": [
    "# top rows\n",
    "df = pd.DataFrame(connections, columns=['facebook_user_1', 'facebook_user_1', 'day'])\n",
    "df.head(10)"
   ]
  },
  {
   "cell_type": "markdown",
   "metadata": {},
   "source": [
    "We show some statistics, although here, they don't really make sense."
   ]
  },
  {
   "cell_type": "code",
   "execution_count": null,
   "metadata": {},
   "outputs": [],
   "source": [
    "df.describe()"
   ]
  },
  {
   "cell_type": "markdown",
   "metadata": {},
   "source": [
    "We grab a sample. More precisely, we select the bottom rows of the dataset  which correspond to the most ancient wall posts in ascending order."
   ]
  },
  {
   "cell_type": "code",
   "execution_count": null,
   "metadata": {},
   "outputs": [],
   "source": [
    "max_timestep = 5\n",
    "connections = connections[np.where(connections[:, 2] < max_timestep)]"
   ]
  },
  {
   "cell_type": "code",
   "execution_count": null,
   "metadata": {},
   "outputs": [],
   "source": [
    "users = np.unique(connections[:, :2])\n",
    "n_users = users.shape[-1]\n",
    "new_nodes = dict(np.vstack((users, np.arange(n_users))).T)"
   ]
  },
  {
   "cell_type": "markdown",
   "metadata": {},
   "source": [
    "The row data consists of edge lists (one for each timestep). We transform it into a temporal graph."
   ]
  },
  {
   "cell_type": "code",
   "execution_count": null,
   "metadata": {},
   "outputs": [],
   "source": [
    "snapshots = []\n",
    "for t in range(max_timestep):\n",
    "    adj_mat = np.zeros((n_users, n_users))\n",
    "    for x in connections[np.where(connections[:, 2] == t), :2][0]:\n",
    "        i, j = x\n",
    "        adj_mat[new_nodes[i], new_nodes[j]] += 1\n",
    "        adj_mat[new_nodes[j], new_nodes[i]] += 1\n",
    "    snapshots += [Graph(list(new_nodes.values()), adj_mat)]"
   ]
  },
  {
   "cell_type": "code",
   "execution_count": null,
   "metadata": {},
   "outputs": [],
   "source": [
    "t_graph = TemporalGraph(snapshots, verbose=True)"
   ]
  },
  {
   "cell_type": "markdown",
   "metadata": {},
   "source": [
    "## Graph visualization"
   ]
  },
  {
   "cell_type": "markdown",
   "metadata": {},
   "source": [
    "Once we have a temporal graph, we can visualize its snapshots and accumulated graphs. We can play with it by changing the value of t and re-running the three followig cells."
   ]
  },
  {
   "cell_type": "code",
   "execution_count": null,
   "metadata": {},
   "outputs": [],
   "source": [
    "# select a timestep\n",
    "t = 5\n",
    "\n",
    "if True:\n",
    "    # to plot the accumulated graph\n",
    "    graph = np.sum(t_graph[:t+1])\n",
    "else:\n",
    "    # to plot the snapshot\n",
    "    graph = np.sum(t_graph[t])"
   ]
  },
  {
   "cell_type": "code",
   "execution_count": null,
   "metadata": {},
   "outputs": [],
   "source": [
    "edges = [(i, j, {\n",
    "    \"weight\": int(graph.adjacency_matrix[i, j])\n",
    "}) for i in range(graph.n_vertices) for j in range(i)\n",
    "         if graph.adjacency_matrix[i, j]]\n",
    "\n",
    "net = nx.Graph()\n",
    "net.add_edges_from(edges)"
   ]
  },
  {
   "cell_type": "code",
   "execution_count": null,
   "metadata": {},
   "outputs": [],
   "source": [
    "pos = nx.spring_layout(net)\n",
    "nx.draw(net, pos, with_labels=True)\n",
    "plt.show()"
   ]
  },
  {
   "cell_type": "markdown",
   "metadata": {},
   "source": [
    "## Running the algorithm"
   ]
  },
  {
   "cell_type": "markdown",
   "metadata": {},
   "source": [
    "We now call the _find_density_bursting_subgraph_ function which takes as inputs the temporal graph from and a positive integer theta which is the minimum duration threshold (the minimum amount above of timesteps for a density bursting graph). We obtain a subset of nodes and a time interval which, together, define a temporal subgraph which we believe to be a density bursting subgraph."
   ]
  },
  {
   "cell_type": "code",
   "execution_count": null,
   "metadata": {},
   "outputs": [],
   "source": [
    "nodes, t_b, t_e = find_density_bursting_subgraph(t_graph, theta=5)"
   ]
  },
  {
   "cell_type": "code",
   "execution_count": null,
   "metadata": {},
   "outputs": [],
   "source": [
    "print(f\"nodes : {nodes}\\nT = ({t_b}, {t_e}]\")"
   ]
  }
 ],
 "metadata": {
  "kernelspec": {
   "display_name": "density_bursting_subgraph",
   "language": "python",
   "name": "python3"
  },
  "language_info": {
   "codemirror_mode": {
    "name": "ipython",
    "version": 3
   },
   "file_extension": ".py",
   "mimetype": "text/x-python",
   "name": "python",
   "nbconvert_exporter": "python",
   "pygments_lexer": "ipython3",
   "version": "3.11.5"
  }
 },
 "nbformat": 4,
 "nbformat_minor": 2
}
